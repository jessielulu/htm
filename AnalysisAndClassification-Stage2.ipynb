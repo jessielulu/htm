{
 "cells": [
  {
   "cell_type": "code",
   "execution_count": 45,
   "metadata": {
    "collapsed": true
   },
   "outputs": [],
   "source": [
    "import pandas as pd\n",
    "from geopy.distance import great_circle\n",
    "import datetime\n",
    "import matplotlib.pyplot as plt"
   ]
  },
  {
   "cell_type": "code",
   "execution_count": 46,
   "metadata": {},
   "outputs": [
    {
     "name": "stdout",
     "output_type": "stream",
     "text": [
      "(20585, 17)\n"
     ]
    }
   ],
   "source": [
    "#Loading data into DataFrame and drop any row that has NaN value\n",
    "\n",
    "df = pd.read_csv('/Users/cvsox/dev/Seattle_Track_2/Examples/data/AIS_ASCII_by_UTM_Month/2017/Example_COLREGs_Interactions_UTM11.csv')\n",
    "print(df.shape)\n",
    "#df = df.dropna()\n",
    "#print(df.shape)"
   ]
  },
  {
   "cell_type": "code",
   "execution_count": 47,
   "metadata": {},
   "outputs": [
    {
     "name": "stdout",
     "output_type": "stream",
     "text": [
      "There are 17 unique attributes in this data\n",
      "There are 17 unique columns: ['COLREG_Type' 'MMSI' 'BaseDateTime' 'LAT' 'LON' 'SOG' 'COG' 'Heading'\n",
      " 'VesselName' 'IMO' 'CallSign' 'VesselType' 'Status' 'Length' 'Width'\n",
      " 'Draft' 'Cargo']\n"
     ]
    },
    {
     "data": {
      "text/html": [
       "<div>\n",
       "<style scoped>\n",
       "    .dataframe tbody tr th:only-of-type {\n",
       "        vertical-align: middle;\n",
       "    }\n",
       "\n",
       "    .dataframe tbody tr th {\n",
       "        vertical-align: top;\n",
       "    }\n",
       "\n",
       "    .dataframe thead th {\n",
       "        text-align: right;\n",
       "    }\n",
       "</style>\n",
       "<table border=\"1\" class=\"dataframe\">\n",
       "  <thead>\n",
       "    <tr style=\"text-align: right;\">\n",
       "      <th></th>\n",
       "      <th>COLREG_Type</th>\n",
       "      <th>MMSI</th>\n",
       "      <th>BaseDateTime</th>\n",
       "      <th>LAT</th>\n",
       "      <th>LON</th>\n",
       "      <th>SOG</th>\n",
       "      <th>COG</th>\n",
       "      <th>Heading</th>\n",
       "      <th>VesselName</th>\n",
       "      <th>IMO</th>\n",
       "      <th>CallSign</th>\n",
       "      <th>VesselType</th>\n",
       "      <th>Status</th>\n",
       "      <th>Length</th>\n",
       "      <th>Width</th>\n",
       "      <th>Draft</th>\n",
       "      <th>Cargo</th>\n",
       "    </tr>\n",
       "  </thead>\n",
       "  <tbody>\n",
       "    <tr>\n",
       "      <th>0</th>\n",
       "      <td>Overtaking</td>\n",
       "      <td>372747000</td>\n",
       "      <td>12/3/17 9:00:16</td>\n",
       "      <td>33.648643</td>\n",
       "      <td>-120.275227</td>\n",
       "      <td>0</td>\n",
       "      <td>0</td>\n",
       "      <td>0</td>\n",
       "      <td>CYGNUS LEADER</td>\n",
       "      <td>IMO9381249</td>\n",
       "      <td>3EKK5</td>\n",
       "      <td>1004</td>\n",
       "      <td>NaN</td>\n",
       "      <td>199.94</td>\n",
       "      <td>32.26</td>\n",
       "      <td>10.0</td>\n",
       "      <td>NaN</td>\n",
       "    </tr>\n",
       "    <tr>\n",
       "      <th>1</th>\n",
       "      <td>Overtaking</td>\n",
       "      <td>372747000</td>\n",
       "      <td>12/3/17 9:00:36</td>\n",
       "      <td>33.648692</td>\n",
       "      <td>-120.274767</td>\n",
       "      <td>0</td>\n",
       "      <td>0</td>\n",
       "      <td>0</td>\n",
       "      <td>CYGNUS LEADER</td>\n",
       "      <td>IMO9381249</td>\n",
       "      <td>3EKK5</td>\n",
       "      <td>1004</td>\n",
       "      <td>NaN</td>\n",
       "      <td>199.94</td>\n",
       "      <td>32.26</td>\n",
       "      <td>10.0</td>\n",
       "      <td>NaN</td>\n",
       "    </tr>\n",
       "    <tr>\n",
       "      <th>2</th>\n",
       "      <td>Overtaking</td>\n",
       "      <td>372747000</td>\n",
       "      <td>12/3/17 9:01:00</td>\n",
       "      <td>33.648742</td>\n",
       "      <td>-120.274307</td>\n",
       "      <td>0</td>\n",
       "      <td>0</td>\n",
       "      <td>0</td>\n",
       "      <td>CYGNUS LEADER</td>\n",
       "      <td>IMO9381249</td>\n",
       "      <td>3EKK5</td>\n",
       "      <td>1004</td>\n",
       "      <td>NaN</td>\n",
       "      <td>199.94</td>\n",
       "      <td>32.26</td>\n",
       "      <td>10.0</td>\n",
       "      <td>NaN</td>\n",
       "    </tr>\n",
       "    <tr>\n",
       "      <th>3</th>\n",
       "      <td>Overtaking</td>\n",
       "      <td>372747000</td>\n",
       "      <td>12/3/17 9:01:20</td>\n",
       "      <td>33.648792</td>\n",
       "      <td>-120.273847</td>\n",
       "      <td>0</td>\n",
       "      <td>0</td>\n",
       "      <td>0</td>\n",
       "      <td>CYGNUS LEADER</td>\n",
       "      <td>IMO9381249</td>\n",
       "      <td>3EKK5</td>\n",
       "      <td>1004</td>\n",
       "      <td>NaN</td>\n",
       "      <td>199.94</td>\n",
       "      <td>32.26</td>\n",
       "      <td>10.0</td>\n",
       "      <td>NaN</td>\n",
       "    </tr>\n",
       "    <tr>\n",
       "      <th>4</th>\n",
       "      <td>Overtaking</td>\n",
       "      <td>372747000</td>\n",
       "      <td>12/3/17 9:01:40</td>\n",
       "      <td>33.648840</td>\n",
       "      <td>-120.273387</td>\n",
       "      <td>0</td>\n",
       "      <td>0</td>\n",
       "      <td>0</td>\n",
       "      <td>CYGNUS LEADER</td>\n",
       "      <td>IMO9381249</td>\n",
       "      <td>3EKK5</td>\n",
       "      <td>1004</td>\n",
       "      <td>NaN</td>\n",
       "      <td>199.94</td>\n",
       "      <td>32.26</td>\n",
       "      <td>10.0</td>\n",
       "      <td>NaN</td>\n",
       "    </tr>\n",
       "  </tbody>\n",
       "</table>\n",
       "</div>"
      ],
      "text/plain": [
       "  COLREG_Type       MMSI     BaseDateTime        LAT         LON  SOG  COG  \\\n",
       "0  Overtaking  372747000  12/3/17 9:00:16  33.648643 -120.275227    0    0   \n",
       "1  Overtaking  372747000  12/3/17 9:00:36  33.648692 -120.274767    0    0   \n",
       "2  Overtaking  372747000  12/3/17 9:01:00  33.648742 -120.274307    0    0   \n",
       "3  Overtaking  372747000  12/3/17 9:01:20  33.648792 -120.273847    0    0   \n",
       "4  Overtaking  372747000  12/3/17 9:01:40  33.648840 -120.273387    0    0   \n",
       "\n",
       "   Heading      VesselName          IMO CallSign  VesselType Status  Length  \\\n",
       "0        0   CYGNUS LEADER   IMO9381249    3EKK5        1004    NaN  199.94   \n",
       "1        0   CYGNUS LEADER   IMO9381249    3EKK5        1004    NaN  199.94   \n",
       "2        0   CYGNUS LEADER   IMO9381249    3EKK5        1004    NaN  199.94   \n",
       "3        0   CYGNUS LEADER   IMO9381249    3EKK5        1004    NaN  199.94   \n",
       "4        0   CYGNUS LEADER   IMO9381249    3EKK5        1004    NaN  199.94   \n",
       "\n",
       "   Width  Draft  Cargo  \n",
       "0  32.26   10.0    NaN  \n",
       "1  32.26   10.0    NaN  \n",
       "2  32.26   10.0    NaN  \n",
       "3  32.26   10.0    NaN  \n",
       "4  32.26   10.0    NaN  "
      ]
     },
     "execution_count": 47,
     "metadata": {},
     "output_type": "execute_result"
    }
   ],
   "source": [
    "#df['MMSI'].unique()\n",
    "#df['COG'].describe(), df['COG'].describe(), df['Heading'].describe()\n",
    "print('There are {} unique attributes in this data'.format(len(df.columns)))\n",
    "print('There are {} unique columns: {}' .format(len(df.columns), df.columns.values))\n",
    "df.head()\n",
    "#for i in df.columns:\n",
    "#    print(i, df[i].describe())"
   ]
  },
  {
   "cell_type": "markdown",
   "metadata": {},
   "source": [
    "# If you drop rows with NA, value, you have left with one COLREQ_TYPE"
   ]
  },
  {
   "cell_type": "code",
   "execution_count": 48,
   "metadata": {},
   "outputs": [
    {
     "name": "stdout",
     "output_type": "stream",
     "text": [
      "   COLREG_Type       MMSI     BaseDateTime        LAT         LON  SOG  COG  \\\n",
      "0            2  372747000  12/3/17 9:00:16  33.648643 -120.275227    0    0   \n",
      "1            2  372747000  12/3/17 9:00:36  33.648692 -120.274767    0    0   \n",
      "2            2  372747000  12/3/17 9:01:00  33.648742 -120.274307    0    0   \n",
      "3            2  372747000  12/3/17 9:01:20  33.648792 -120.273847    0    0   \n",
      "4            2  372747000  12/3/17 9:01:40  33.648840 -120.273387    0    0   \n",
      "\n",
      "   Heading      VesselName          IMO CallSign  VesselType Status  Length  \\\n",
      "0        0   CYGNUS LEADER   IMO9381249    3EKK5        1004    NaN  199.94   \n",
      "1        0   CYGNUS LEADER   IMO9381249    3EKK5        1004    NaN  199.94   \n",
      "2        0   CYGNUS LEADER   IMO9381249    3EKK5        1004    NaN  199.94   \n",
      "3        0   CYGNUS LEADER   IMO9381249    3EKK5        1004    NaN  199.94   \n",
      "4        0   CYGNUS LEADER   IMO9381249    3EKK5        1004    NaN  199.94   \n",
      "\n",
      "   Width  Draft  Cargo  \n",
      "0  32.26   10.0    NaN  \n",
      "1  32.26   10.0    NaN  \n",
      "2  32.26   10.0    NaN  \n",
      "3  32.26   10.0    NaN  \n",
      "4  32.26   10.0    NaN  \n"
     ]
    }
   ],
   "source": [
    "# objective function  #one-hot encoded\n",
    "#df.city=df.city.astype('category').cat.codes\n",
    "df.COLREG_Type = df.COLREG_Type.astype('category').cat.codes\n",
    "print(df.head())\n",
    "\n",
    "colreg_type = df.COLREG_Type.describe()"
   ]
  },
  {
   "cell_type": "code",
   "execution_count": 49,
   "metadata": {},
   "outputs": [
    {
     "name": "stdout",
     "output_type": "stream",
     "text": [
      "   COLREG_Type  MMSI     BaseDateTime        LAT         LON  SOG  COG  \\\n",
      "0            2     1  12/3/17 9:00:16  33.648643 -120.275227    0    0   \n",
      "1            2     1  12/3/17 9:00:36  33.648692 -120.274767    0    0   \n",
      "2            2     1  12/3/17 9:01:00  33.648742 -120.274307    0    0   \n",
      "3            2     1  12/3/17 9:01:20  33.648792 -120.273847    0    0   \n",
      "4            2     1  12/3/17 9:01:40  33.648840 -120.273387    0    0   \n",
      "\n",
      "   Heading      VesselName          IMO CallSign  VesselType Status  Length  \\\n",
      "0        0   CYGNUS LEADER   IMO9381249    3EKK5        1004    NaN  199.94   \n",
      "1        0   CYGNUS LEADER   IMO9381249    3EKK5        1004    NaN  199.94   \n",
      "2        0   CYGNUS LEADER   IMO9381249    3EKK5        1004    NaN  199.94   \n",
      "3        0   CYGNUS LEADER   IMO9381249    3EKK5        1004    NaN  199.94   \n",
      "4        0   CYGNUS LEADER   IMO9381249    3EKK5        1004    NaN  199.94   \n",
      "\n",
      "   Width  Draft  Cargo  \n",
      "0  32.26   10.0    NaN  \n",
      "1  32.26   10.0    NaN  \n",
      "2  32.26   10.0    NaN  \n",
      "3  32.26   10.0    NaN  \n",
      "4  32.26   10.0    NaN  \n"
     ]
    }
   ],
   "source": [
    "# MMSI\n",
    "df.MMSI = df.MMSI.astype('category').cat.codes\n",
    "#mmsi = df.MMSI.describe()\n",
    "print(df.head())"
   ]
  },
  {
   "cell_type": "code",
   "execution_count": 42,
   "metadata": {},
   "outputs": [
    {
     "data": {
      "text/plain": [
       "array(['12/2/17 9:00:30', '12/2/17 9:00:50', '12/2/17 9:01:14', ...,\n",
       "       '12/3/17 4:35:44', '12/3/17 4:36:00', '12/3/17 4:36:14'],\n",
       "      dtype=object)"
      ]
     },
     "execution_count": 42,
     "metadata": {},
     "output_type": "execute_result"
    }
   ],
   "source": [
    "#BaseDateTime -> convert to unique \n",
    "#basedatetime = df.BaseDateTime.describe()\n",
    "#basedatetime"
   ]
  },
  {
   "cell_type": "code",
   "execution_count": 50,
   "metadata": {},
   "outputs": [
    {
     "data": {
      "text/plain": [
       "count    20585.000000\n",
       "mean        33.758988\n",
       "std          0.076469\n",
       "min         33.628018\n",
       "25%         33.706140\n",
       "50%         33.758328\n",
       "75%         33.804875\n",
       "max         34.028930\n",
       "Name: LAT, dtype: float64"
      ]
     },
     "execution_count": 50,
     "metadata": {},
     "output_type": "execute_result"
    }
   ],
   "source": [
    "LAT = df.LAT.describe()\n",
    "LAT"
   ]
  },
  {
   "cell_type": "code",
   "execution_count": 8,
   "metadata": {},
   "outputs": [
    {
     "data": {
      "text/plain": [
       "count    20585.000000\n",
       "mean      -119.229006\n",
       "std          1.739290\n",
       "min       -120.448252\n",
       "25%       -119.663153\n",
       "50%       -119.191873\n",
       "75%       -118.778308\n",
       "max        119.010018\n",
       "Name: LON, dtype: float64"
      ]
     },
     "execution_count": 8,
     "metadata": {},
     "output_type": "execute_result"
    }
   ],
   "source": [
    "LON = df.LON.describe()\n",
    "LON"
   ]
  },
  {
   "cell_type": "code",
   "execution_count": 9,
   "metadata": {},
   "outputs": [
    {
     "data": {
      "text/plain": [
       "count    20585.0\n",
       "mean         0.0\n",
       "std          0.0\n",
       "min          0.0\n",
       "25%          0.0\n",
       "50%          0.0\n",
       "75%          0.0\n",
       "max          0.0\n",
       "Name: SOG, dtype: float64"
      ]
     },
     "execution_count": 9,
     "metadata": {},
     "output_type": "execute_result"
    }
   ],
   "source": [
    "SOG = df.SOG.describe()\n",
    "SOG"
   ]
  },
  {
   "cell_type": "code",
   "execution_count": 10,
   "metadata": {},
   "outputs": [
    {
     "data": {
      "text/plain": [
       "count    20585.0\n",
       "mean         0.0\n",
       "std          0.0\n",
       "min          0.0\n",
       "25%          0.0\n",
       "50%          0.0\n",
       "75%          0.0\n",
       "max          0.0\n",
       "Name: COG, dtype: float64"
      ]
     },
     "execution_count": 10,
     "metadata": {},
     "output_type": "execute_result"
    }
   ],
   "source": [
    "COG = df.COG.describe()\n",
    "COG"
   ]
  },
  {
   "cell_type": "code",
   "execution_count": 11,
   "metadata": {},
   "outputs": [
    {
     "data": {
      "text/plain": [
       "count    20585.0\n",
       "mean         0.0\n",
       "std          0.0\n",
       "min          0.0\n",
       "25%          0.0\n",
       "50%          0.0\n",
       "75%          0.0\n",
       "max          0.0\n",
       "Name: Heading, dtype: float64"
      ]
     },
     "execution_count": 11,
     "metadata": {},
     "output_type": "execute_result"
    }
   ],
   "source": [
    "heading = df.Heading.describe()\n",
    "heading"
   ]
  },
  {
   "cell_type": "code",
   "execution_count": 12,
   "metadata": {},
   "outputs": [
    {
     "name": "stdout",
     "output_type": "stream",
     "text": [
      "   COLREG_Type  MMSI     BaseDateTime        LAT         LON  SOG  COG  \\\n",
      "0            2     1  12/3/17 9:00:16  33.648643 -120.275227    0    0   \n",
      "1            2     1  12/3/17 9:00:36  33.648692 -120.274767    0    0   \n",
      "2            2     1  12/3/17 9:01:00  33.648742 -120.274307    0    0   \n",
      "3            2     1  12/3/17 9:01:20  33.648792 -120.273847    0    0   \n",
      "4            2     1  12/3/17 9:01:40  33.648840 -120.273387    0    0   \n",
      "\n",
      "   Heading  VesselName          IMO CallSign  VesselType Status  Length  \\\n",
      "0        0           0   IMO9381249    3EKK5        1004    NaN  199.94   \n",
      "1        0           0   IMO9381249    3EKK5        1004    NaN  199.94   \n",
      "2        0           0   IMO9381249    3EKK5        1004    NaN  199.94   \n",
      "3        0           0   IMO9381249    3EKK5        1004    NaN  199.94   \n",
      "4        0           0   IMO9381249    3EKK5        1004    NaN  199.94   \n",
      "\n",
      "   Width  Draft  Cargo  \n",
      "0  32.26   10.0    NaN  \n",
      "1  32.26   10.0    NaN  \n",
      "2  32.26   10.0    NaN  \n",
      "3  32.26   10.0    NaN  \n",
      "4  32.26   10.0    NaN  \n"
     ]
    }
   ],
   "source": [
    "#vesselname = df.VesselName.describe()\n",
    "#vesselname\n",
    "df.VesselName = df.VesselName.astype('category').cat.codes\n",
    "#mmsi = df.MMSI.describe()\n",
    "print(df.head())"
   ]
  },
  {
   "cell_type": "code",
   "execution_count": 20,
   "metadata": {},
   "outputs": [
    {
     "name": "stdout",
     "output_type": "stream",
     "text": [
      "   COLREG_Type  MMSI     BaseDateTime        LAT         LON  SOG  COG  \\\n",
      "0            2     1  12/3/17 9:00:16  33.648643 -120.275227    0    0   \n",
      "1            2     1  12/3/17 9:00:36  33.648692 -120.274767    0    0   \n",
      "2            2     1  12/3/17 9:01:00  33.648742 -120.274307    0    0   \n",
      "3            2     1  12/3/17 9:01:20  33.648792 -120.273847    0    0   \n",
      "4            2     1  12/3/17 9:01:40  33.648840 -120.273387    0    0   \n",
      "\n",
      "   Heading  VesselName  IMO CallSign  VesselType Status  Length  Width  Draft  \\\n",
      "0        0           0    2    3EKK5        1004    NaN  199.94  32.26   10.0   \n",
      "1        0           0    2    3EKK5        1004    NaN  199.94  32.26   10.0   \n",
      "2        0           0    2    3EKK5        1004    NaN  199.94  32.26   10.0   \n",
      "3        0           0    2    3EKK5        1004    NaN  199.94  32.26   10.0   \n",
      "4        0           0    2    3EKK5        1004    NaN  199.94  32.26   10.0   \n",
      "\n",
      "   Cargo  \n",
      "0    NaN  \n",
      "1    NaN  \n",
      "2    NaN  \n",
      "3    NaN  \n",
      "4    NaN  \n"
     ]
    }
   ],
   "source": [
    "df.IMO = df.IMO.astype('category').cat.codes\n",
    "print(df.head())"
   ]
  },
  {
   "cell_type": "code",
   "execution_count": 21,
   "metadata": {},
   "outputs": [
    {
     "data": {
      "text/plain": [
       "array([' 3EKK5', ' V7VK7', ' A8LD3', ' V7EJ4', ' LAEK7', ' 9V9352'],\n",
       "      dtype=object)"
      ]
     },
     "execution_count": 21,
     "metadata": {},
     "output_type": "execute_result"
    }
   ],
   "source": [
    "df.CallSign.unique()"
   ]
  },
  {
   "cell_type": "code",
   "execution_count": 22,
   "metadata": {},
   "outputs": [
    {
     "name": "stdout",
     "output_type": "stream",
     "text": [
      "   COLREG_Type  MMSI     BaseDateTime        LAT         LON  SOG  COG  \\\n",
      "0            2     1  12/3/17 9:00:16  33.648643 -120.275227    0    0   \n",
      "1            2     1  12/3/17 9:00:36  33.648692 -120.274767    0    0   \n",
      "2            2     1  12/3/17 9:01:00  33.648742 -120.274307    0    0   \n",
      "3            2     1  12/3/17 9:01:20  33.648792 -120.273847    0    0   \n",
      "4            2     1  12/3/17 9:01:40  33.648840 -120.273387    0    0   \n",
      "\n",
      "   Heading  VesselName  IMO  CallSign  VesselType Status  Length  Width  \\\n",
      "0        0           0    2         0        1004    NaN  199.94  32.26   \n",
      "1        0           0    2         0        1004    NaN  199.94  32.26   \n",
      "2        0           0    2         0        1004    NaN  199.94  32.26   \n",
      "3        0           0    2         0        1004    NaN  199.94  32.26   \n",
      "4        0           0    2         0        1004    NaN  199.94  32.26   \n",
      "\n",
      "   Draft  Cargo  \n",
      "0   10.0    NaN  \n",
      "1   10.0    NaN  \n",
      "2   10.0    NaN  \n",
      "3   10.0    NaN  \n",
      "4   10.0    NaN  \n"
     ]
    }
   ],
   "source": [
    "df.CallSign = df.CallSign.astype('category').cat.codes\n",
    "print(df.head())\n",
    "#callsign = df.CallSign.describe()\n",
    "#callsign"
   ]
  },
  {
   "cell_type": "code",
   "execution_count": 23,
   "metadata": {},
   "outputs": [
    {
     "name": "stdout",
     "output_type": "stream",
     "text": [
      "   COLREG_Type  MMSI     BaseDateTime        LAT         LON  SOG  COG  \\\n",
      "0            2     1  12/3/17 9:00:16  33.648643 -120.275227    0    0   \n",
      "1            2     1  12/3/17 9:00:36  33.648692 -120.274767    0    0   \n",
      "2            2     1  12/3/17 9:01:00  33.648742 -120.274307    0    0   \n",
      "3            2     1  12/3/17 9:01:20  33.648792 -120.273847    0    0   \n",
      "4            2     1  12/3/17 9:01:40  33.648840 -120.273387    0    0   \n",
      "\n",
      "   Heading  VesselName  IMO  CallSign  VesselType Status  Length  Width  \\\n",
      "0        0           0    2         0           1    NaN  199.94  32.26   \n",
      "1        0           0    2         0           1    NaN  199.94  32.26   \n",
      "2        0           0    2         0           1    NaN  199.94  32.26   \n",
      "3        0           0    2         0           1    NaN  199.94  32.26   \n",
      "4        0           0    2         0           1    NaN  199.94  32.26   \n",
      "\n",
      "   Draft  Cargo  \n",
      "0   10.0    NaN  \n",
      "1   10.0    NaN  \n",
      "2   10.0    NaN  \n",
      "3   10.0    NaN  \n",
      "4   10.0    NaN  \n"
     ]
    }
   ],
   "source": [
    "df.VesselType = df.VesselType.astype('category').cat.codes\n",
    "print(df.head())\n",
    "#vesseltype = df.VesselType.describe()\n",
    "#vesseltype"
   ]
  },
  {
   "cell_type": "code",
   "execution_count": 24,
   "metadata": {},
   "outputs": [
    {
     "data": {
      "text/plain": [
       "0                            NaN\n",
       "1                            NaN\n",
       "2                            NaN\n",
       "3                            NaN\n",
       "4                            NaN\n",
       "5                            NaN\n",
       "6                            NaN\n",
       "7                            NaN\n",
       "8                            NaN\n",
       "9                            NaN\n",
       "10                           NaN\n",
       "11                           NaN\n",
       "12                           NaN\n",
       "13                           NaN\n",
       "14                           NaN\n",
       "15                           NaN\n",
       "16                           NaN\n",
       "17                           NaN\n",
       "18                           NaN\n",
       "19                           NaN\n",
       "20                           NaN\n",
       "21                           NaN\n",
       "22                           NaN\n",
       "23                           NaN\n",
       "24                           NaN\n",
       "25                           NaN\n",
       "26                           NaN\n",
       "27                           NaN\n",
       "28                           NaN\n",
       "29                           NaN\n",
       "                  ...           \n",
       "20555     under way using engine\n",
       "20556     under way using engine\n",
       "20557     under way using engine\n",
       "20558     under way using engine\n",
       "20559     under way using engine\n",
       "20560     under way using engine\n",
       "20561     under way using engine\n",
       "20562     under way using engine\n",
       "20563     under way using engine\n",
       "20564     under way using engine\n",
       "20565     under way using engine\n",
       "20566     under way using engine\n",
       "20567     under way using engine\n",
       "20568     under way using engine\n",
       "20569     under way using engine\n",
       "20570     under way using engine\n",
       "20571     under way using engine\n",
       "20572     under way using engine\n",
       "20573     under way using engine\n",
       "20574     under way using engine\n",
       "20575     under way using engine\n",
       "20576     under way using engine\n",
       "20577     under way using engine\n",
       "20578     under way using engine\n",
       "20579     under way using engine\n",
       "20580     under way using engine\n",
       "20581     under way using engine\n",
       "20582     under way using engine\n",
       "20583     under way using engine\n",
       "20584     under way using engine\n",
       "Name: Status, Length: 20585, dtype: object"
      ]
     },
     "execution_count": 24,
     "metadata": {},
     "output_type": "execute_result"
    }
   ],
   "source": [
    "status = df.Status.describe()\n",
    "df.Status"
   ]
  },
  {
   "cell_type": "code",
   "execution_count": 48,
   "metadata": {},
   "outputs": [
    {
     "data": {
      "text/plain": [
       "count    20585.00000\n",
       "mean       213.21632\n",
       "std         44.30447\n",
       "min        162.50000\n",
       "25%        179.90000\n",
       "50%        199.94000\n",
       "75%        229.10000\n",
       "max        332.93000\n",
       "Name: Length, dtype: float64"
      ]
     },
     "execution_count": 48,
     "metadata": {},
     "output_type": "execute_result"
    }
   ],
   "source": [
    "length = df.Length.describe()\n",
    "length"
   ]
  },
  {
   "cell_type": "code",
   "execution_count": 49,
   "metadata": {},
   "outputs": [
    {
     "data": {
      "text/plain": [
       "count    20585.000000\n",
       "mean        33.790273\n",
       "std          7.884192\n",
       "min         26.000000\n",
       "25%         32.200000\n",
       "50%         32.260000\n",
       "75%         34.000000\n",
       "max         58.100000\n",
       "Name: Width, dtype: float64"
      ]
     },
     "execution_count": 49,
     "metadata": {},
     "output_type": "execute_result"
    }
   ],
   "source": [
    "width = df.Width.describe()\n",
    "width"
   ]
  },
  {
   "cell_type": "code",
   "execution_count": 50,
   "metadata": {},
   "outputs": [
    {
     "data": {
      "text/plain": [
       "count    20585.000000\n",
       "mean        11.591188\n",
       "std          4.042996\n",
       "min          8.100000\n",
       "25%          9.600000\n",
       "50%          9.700000\n",
       "75%         14.500000\n",
       "max         22.700000\n",
       "Name: Draft, dtype: float64"
      ]
     },
     "execution_count": 50,
     "metadata": {},
     "output_type": "execute_result"
    }
   ],
   "source": [
    "draft = df.Draft.describe()\n",
    "draft"
   ]
  },
  {
   "cell_type": "code",
   "execution_count": 26,
   "metadata": {},
   "outputs": [
    {
     "data": {
      "text/plain": [
       "array([nan, 81., 90., 70.])"
      ]
     },
     "execution_count": 26,
     "metadata": {},
     "output_type": "execute_result"
    }
   ],
   "source": [
    "cargo = df.Cargo.describe()\n",
    "df.Cargo.unique()"
   ]
  },
  {
   "cell_type": "code",
   "execution_count": 8,
   "metadata": {},
   "outputs": [
    {
     "data": {
      "text/plain": [
       "((20585, 17),\n",
       "   COLREG_Type       MMSI     BaseDateTime        LAT         LON  SOG  COG  \\\n",
       " 0  Overtaking  372747000  12/3/17 9:00:16  33.648643 -120.275227    0    0   \n",
       " 1  Overtaking  372747000  12/3/17 9:00:36  33.648692 -120.274767    0    0   \n",
       " 2  Overtaking  372747000  12/3/17 9:01:00  33.648742 -120.274307    0    0   \n",
       " 3  Overtaking  372747000  12/3/17 9:01:20  33.648792 -120.273847    0    0   \n",
       " 4  Overtaking  372747000  12/3/17 9:01:40  33.648840 -120.273387    0    0   \n",
       " \n",
       "    Heading      VesselName          IMO CallSign  VesselType Status  Length  \\\n",
       " 0        0   CYGNUS LEADER   IMO9381249    3EKK5        1004    NaN  199.94   \n",
       " 1        0   CYGNUS LEADER   IMO9381249    3EKK5        1004    NaN  199.94   \n",
       " 2        0   CYGNUS LEADER   IMO9381249    3EKK5        1004    NaN  199.94   \n",
       " 3        0   CYGNUS LEADER   IMO9381249    3EKK5        1004    NaN  199.94   \n",
       " 4        0   CYGNUS LEADER   IMO9381249    3EKK5        1004    NaN  199.94   \n",
       " \n",
       "    Width  Draft  Cargo  \n",
       " 0  32.26   10.0    NaN  \n",
       " 1  32.26   10.0    NaN  \n",
       " 2  32.26   10.0    NaN  \n",
       " 3  32.26   10.0    NaN  \n",
       " 4  32.26   10.0    NaN  )"
      ]
     },
     "execution_count": 8,
     "metadata": {},
     "output_type": "execute_result"
    }
   ],
   "source": [
    "#standard scalar\n",
    "import numpy as np\n",
    "from sklearn.decomposition import PCA\n",
    "\n"
   ]
  },
  {
   "cell_type": "code",
   "execution_count": 6,
   "metadata": {},
   "outputs": [
    {
     "data": {
      "text/plain": [
       "Index(['COLREG_Type', 'MMSI', 'BaseDateTime', 'LAT', 'LON', 'SOG', 'COG',\n",
       "       'Heading', 'VesselName', 'IMO', 'CallSign', 'VesselType', 'Status',\n",
       "       'Length', 'Width', 'Draft', 'Cargo'],\n",
       "      dtype='object')"
      ]
     },
     "execution_count": 6,
     "metadata": {},
     "output_type": "execute_result"
    }
   ],
   "source": [
    "df.columns"
   ]
  },
  {
   "cell_type": "code",
   "execution_count": 7,
   "metadata": {},
   "outputs": [
    {
     "data": {
      "text/plain": [
       "array([372747000, 538004144, 636091250, 538005479, 259739000, 566341000])"
      ]
     },
     "execution_count": 7,
     "metadata": {},
     "output_type": "execute_result"
    }
   ],
   "source": [
    "df['MMSI'].unique()"
   ]
  },
  {
   "cell_type": "code",
   "execution_count": null,
   "metadata": {
    "collapsed": true
   },
   "outputs": [],
   "source": []
  }
 ],
 "metadata": {
  "kernelspec": {
   "display_name": "Python 3",
   "language": "python",
   "name": "python3"
  },
  "language_info": {
   "codemirror_mode": {
    "name": "ipython",
    "version": 3
   },
   "file_extension": ".py",
   "mimetype": "text/x-python",
   "name": "python",
   "nbconvert_exporter": "python",
   "pygments_lexer": "ipython3",
   "version": "3.6.2"
  }
 },
 "nbformat": 4,
 "nbformat_minor": 2
}
